{
 "cells": [
  {
   "cell_type": "code",
   "execution_count": 18,
   "id": "b8a2d94e-8e66-4c6c-9fa8-f39f23e97235",
   "metadata": {},
   "outputs": [
    {
     "name": "stdout",
     "output_type": "stream",
     "text": [
      "timestamp:  2025-04-13 16:50:06.025548\n",
      "Data:  {'data': 'Transaction 1'}\n",
      "Хэш блока:  0843bde979cac2eabae236c7d1d003eec4a3e7c569f9f1cf2208208d0ccac90e\n",
      "Хэш предыдущего блока:  \n",
      "\n",
      "timestamp:  2025-04-13 16:50:06.025548\n",
      "Data:  {'data': 'Transaction 1'}\n",
      "Хэш блока:  0843bde979cac2eabae236c7d1d003eec4a3e7c569f9f1cf2208208d0ccac90e\n",
      "Хэш предыдущего блока:  \n",
      "\n",
      "timestamp:  2025-04-13 16:50:06.025548\n",
      "Data:  {'data': 'Transaction 1'}\n",
      "Хэш блока:  0843bde979cac2eabae236c7d1d003eec4a3e7c569f9f1cf2208208d0ccac90e\n",
      "Хэш предыдущего блока:  \n",
      "\n",
      "timestamp:  2025-04-13 16:50:06.025548\n",
      "Data:  {'data': 'Transaction 1'}\n",
      "Хэш блока:  0843bde979cac2eabae236c7d1d003eec4a3e7c569f9f1cf2208208d0ccac90e\n",
      "Хэш предыдущего блока:  \n",
      "\n",
      "is Valid?  True\n"
     ]
    }
   ],
   "source": [
    "import hashlib\n",
    "import datetime\n",
    "class Block:\n",
    "    def __init__(self, timestamp, data, previous_hash):\n",
    "        self.timestamp = timestamp\n",
    "        self.data = data\n",
    "        self.previous_hash = previous_hash\n",
    "        self.hash = self.calculate_hash()\n",
    "    def calculate_hash(self):\n",
    "        hash_string = str(self.timestamp) + str(self.data) + str(self.previous_hash)\n",
    "        return hashlib.sha256(hash_string.encode()).hexdigest()\n",
    "class Blockchain:\n",
    "    def __init__(self):\n",
    "        self.chain = [self.create_genesis_block()]\n",
    "    def create_genesis_block(self):\n",
    "        return Block(datetime.datetime.now(),\"Genesis Block\", \"0\")\n",
    "    def add_block(self, new_block):\n",
    "        new_block.previous_hash = self.chain[-1].hash\n",
    "        new_block.hash = new_block.calculate_hash()\n",
    "        self.chain.append(new_block)\n",
    "    def is_chain_valid(self):\n",
    "        for i in range(1, len(self.chain)):\n",
    "            current_block = self.chain[i]\n",
    "            previous_block = self.chain[i-1]\n",
    "            if current_block.hash != current_block.calculate_hash():\n",
    "                return False\n",
    "            if current_block.previous_hash != previous_block.hash:\n",
    "                return False\n",
    "        return True\n",
    "demp_blockchain = Blockchain()\n",
    "demp_blockchain.add_block(Block(datetime.datetime.now(),{\"data\":\"Transaction 1\"},\"\"))\n",
    "demp_blockchain.add_block(Block(datetime.datetime.now(),{\"data\":\"Transaction 2\"},\"\"))\n",
    "demp_blockchain.add_block(Block(datetime.datetime.now(),{\"data\":\"Transaction 3\"},\"\"))\n",
    "for block in demp_blockchain.chain:\n",
    "    print(\"timestamp: \",block.timestamp)\n",
    "    print(\"Data: \",myblock.data)\n",
    "    print(\"Хэш блока: \",myblock.hash)\n",
    "    print(\"Хэш предыдущего блока: \",myblock.previous_hash)\n",
    "    print()\n",
    "print(\"is Valid? \", demp_blockchain.is_chain_valid())"
   ]
  },
  {
   "cell_type": "code",
   "execution_count": null,
   "id": "3dbf061a-6a79-4ff2-b511-875df5f49a1c",
   "metadata": {},
   "outputs": [],
   "source": []
  },
  {
   "cell_type": "code",
   "execution_count": null,
   "id": "2be4e4e3-3a4a-42f4-ab58-a6ba001d8618",
   "metadata": {},
   "outputs": [],
   "source": []
  },
  {
   "cell_type": "code",
   "execution_count": null,
   "id": "22512a10-788f-434d-8582-bd9251ba931c",
   "metadata": {},
   "outputs": [],
   "source": []
  },
  {
   "cell_type": "code",
   "execution_count": null,
   "id": "807ea4fa-763f-4956-af97-a57e6a641b4c",
   "metadata": {},
   "outputs": [],
   "source": []
  }
 ],
 "metadata": {
  "kernelspec": {
   "display_name": "Python 3 (ipykernel)",
   "language": "python",
   "name": "python3"
  },
  "language_info": {
   "codemirror_mode": {
    "name": "ipython",
    "version": 3
   },
   "file_extension": ".py",
   "mimetype": "text/x-python",
   "name": "python",
   "nbconvert_exporter": "python",
   "pygments_lexer": "ipython3",
   "version": "3.12.7"
  }
 },
 "nbformat": 4,
 "nbformat_minor": 5
}
